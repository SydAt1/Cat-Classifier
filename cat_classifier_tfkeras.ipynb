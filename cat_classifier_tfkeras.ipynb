{
 "cells": [
  {
   "cell_type": "markdown",
   "id": "314a81b0",
   "metadata": {},
   "source": [
    "# Detecting Cat Images Through Neural Networks"
   ]
  },
  {
   "cell_type": "code",
   "execution_count": 9,
   "id": "f7e8e63a",
   "metadata": {},
   "outputs": [],
   "source": [
    "import numpy as np\n",
    "import os\n",
    "from PIL import Image\n",
    "import matplotlib.pyplot as plt\n",
    "import tensorflow as tf\n",
    "from tensorflow.keras.models import Sequential\n",
    "from tensorflow.keras.layers import Dense, Dropout"
   ]
  },
  {
   "cell_type": "markdown",
   "id": "2a94a68e",
   "metadata": {},
   "source": [
    "### Load The Data i.e Images"
   ]
  },
  {
   "cell_type": "code",
   "execution_count": 10,
   "id": "d5e3c977",
   "metadata": {},
   "outputs": [],
   "source": [
    "def load_and_preprocess_images(cat_dir, noncat_dir, image_size=(64, 64)):\n",
    "    def process(directory, label):\n",
    "        images, labels = [], []\n",
    "        for filename in os.listdir(directory):\n",
    "            if filename.lower().endswith(('.jpg', '.jpeg', '.png')):\n",
    "                path = os.path.join(directory, filename)\n",
    "                img = Image.open(path).convert('RGB').resize(image_size)\n",
    "                images.append(np.array(img) / 255.0)  # normalize\n",
    "                labels.append(label)\n",
    "        return np.array(images), np.array(labels)\n",
    "\n",
    "    cat_imgs, cat_labels = process(cat_dir, 1)\n",
    "    noncat_imgs, noncat_labels = process(noncat_dir, 0)\n",
    "\n",
    "    X = np.concatenate((cat_imgs, noncat_imgs), axis=0)\n",
    "    y = np.concatenate((cat_labels, noncat_labels), axis=0)\n",
    "\n",
    "    # Flatten images\n",
    "    X_flat = X.reshape(X.shape[0], -1)\n",
    "    return X_flat, y"
   ]
  },
  {
   "cell_type": "markdown",
   "id": "adf3b3ea",
   "metadata": {},
   "source": [
    "### Load train/test data"
   ]
  },
  {
   "cell_type": "code",
   "execution_count": 13,
   "id": "0db5795f",
   "metadata": {},
   "outputs": [],
   "source": [
    "train_cat_dir = \"images/cats/train/\"\n",
    "train_noncat_dir = \"images/non-cats/train/\"\n",
    "test_cat_dir = \"images/cats/test/\"\n",
    "test_noncat_dir = \"images/non-cats/test/\""
   ]
  },
  {
   "cell_type": "markdown",
   "id": "ce4220b5",
   "metadata": {},
   "source": [
    "### Transpose to shape"
   ]
  },
  {
   "cell_type": "code",
   "execution_count": 14,
   "id": "58326848",
   "metadata": {},
   "outputs": [],
   "source": [
    "X_train, y_train = load_and_preprocess_images(train_cat_dir, train_noncat_dir)\n",
    "X_test, y_test = load_and_preprocess_images(test_cat_dir, test_noncat_dir)"
   ]
  },
  {
   "cell_type": "markdown",
   "id": "7d6d3de1",
   "metadata": {},
   "source": [
    "## Building the Neural network\n"
   ]
  },
  {
   "cell_type": "code",
   "execution_count": 15,
   "id": "3e59fc3f",
   "metadata": {},
   "outputs": [
    {
     "name": "stderr",
     "output_type": "stream",
     "text": [
      "C:\\Users\\Admin\\AppData\\Roaming\\Python\\Python313\\site-packages\\keras\\src\\layers\\core\\dense.py:92: UserWarning: Do not pass an `input_shape`/`input_dim` argument to a layer. When using Sequential models, prefer using an `Input(shape)` object as the first layer in the model instead.\n",
      "  super().__init__(activity_regularizer=activity_regularizer, **kwargs)\n"
     ]
    }
   ],
   "source": [
    "model = Sequential([\n",
    "    Dense(128, activation='relu', input_shape=(X_train.shape[1],)),\n",
    "    Dropout(0.3),\n",
    "    Dense(64, activation='relu'),\n",
    "    Dropout(0.2),\n",
    "    Dense(1, activation='sigmoid')  # Binary classification\n",
    "])\n",
    "\n",
    "model.compile(optimizer='adam', loss='binary_crossentropy', metrics=['accuracy'])"
   ]
  },
  {
   "cell_type": "markdown",
   "id": "13ed6e7e",
   "metadata": {},
   "source": [
    "### Training the model\n"
   ]
  },
  {
   "cell_type": "code",
   "execution_count": 17,
   "id": "84c373d0",
   "metadata": {},
   "outputs": [
    {
     "name": "stdout",
     "output_type": "stream",
     "text": [
      "Epoch 1/18\n"
     ]
    },
    {
     "name": "stdout",
     "output_type": "stream",
     "text": [
      "\u001b[1m2/2\u001b[0m \u001b[32m━━━━━━━━━━━━━━━━━━━━\u001b[0m\u001b[37m\u001b[0m \u001b[1m0s\u001b[0m 92ms/step - accuracy: 0.7586 - loss: 0.5807 - val_accuracy: 0.8182 - val_loss: 0.3287\n",
      "Epoch 2/18\n",
      "\u001b[1m2/2\u001b[0m \u001b[32m━━━━━━━━━━━━━━━━━━━━\u001b[0m\u001b[37m\u001b[0m \u001b[1m0s\u001b[0m 53ms/step - accuracy: 0.7586 - loss: 0.4930 - val_accuracy: 0.9091 - val_loss: 0.3384\n",
      "Epoch 3/18\n",
      "\u001b[1m2/2\u001b[0m \u001b[32m━━━━━━━━━━━━━━━━━━━━\u001b[0m\u001b[37m\u001b[0m \u001b[1m0s\u001b[0m 54ms/step - accuracy: 0.7586 - loss: 0.5559 - val_accuracy: 0.9091 - val_loss: 0.3584\n",
      "Epoch 4/18\n",
      "\u001b[1m2/2\u001b[0m \u001b[32m━━━━━━━━━━━━━━━━━━━━\u001b[0m\u001b[37m\u001b[0m \u001b[1m0s\u001b[0m 57ms/step - accuracy: 0.7931 - loss: 0.4342 - val_accuracy: 0.8182 - val_loss: 0.3333\n",
      "Epoch 5/18\n",
      "\u001b[1m2/2\u001b[0m \u001b[32m━━━━━━━━━━━━━━━━━━━━\u001b[0m\u001b[37m\u001b[0m \u001b[1m0s\u001b[0m 59ms/step - accuracy: 0.8103 - loss: 0.3813 - val_accuracy: 0.8182 - val_loss: 0.3271\n",
      "Epoch 6/18\n",
      "\u001b[1m2/2\u001b[0m \u001b[32m━━━━━━━━━━━━━━━━━━━━\u001b[0m\u001b[37m\u001b[0m \u001b[1m0s\u001b[0m 52ms/step - accuracy: 0.8276 - loss: 0.3753 - val_accuracy: 0.8182 - val_loss: 0.3229\n",
      "Epoch 7/18\n",
      "\u001b[1m2/2\u001b[0m \u001b[32m━━━━━━━━━━━━━━━━━━━━\u001b[0m\u001b[37m\u001b[0m \u001b[1m0s\u001b[0m 52ms/step - accuracy: 0.8448 - loss: 0.4007 - val_accuracy: 0.9091 - val_loss: 0.2730\n",
      "Epoch 8/18\n",
      "\u001b[1m2/2\u001b[0m \u001b[32m━━━━━━━━━━━━━━━━━━━━\u001b[0m\u001b[37m\u001b[0m \u001b[1m0s\u001b[0m 55ms/step - accuracy: 0.7931 - loss: 0.3909 - val_accuracy: 0.9091 - val_loss: 0.2823\n",
      "Epoch 9/18\n",
      "\u001b[1m2/2\u001b[0m \u001b[32m━━━━━━━━━━━━━━━━━━━━\u001b[0m\u001b[37m\u001b[0m \u001b[1m0s\u001b[0m 51ms/step - accuracy: 0.8276 - loss: 0.3870 - val_accuracy: 0.8182 - val_loss: 0.2701\n",
      "Epoch 10/18\n",
      "\u001b[1m2/2\u001b[0m \u001b[32m━━━━━━━━━━━━━━━━━━━━\u001b[0m\u001b[37m\u001b[0m \u001b[1m0s\u001b[0m 54ms/step - accuracy: 0.8448 - loss: 0.3853 - val_accuracy: 0.9091 - val_loss: 0.2639\n",
      "Epoch 11/18\n",
      "\u001b[1m2/2\u001b[0m \u001b[32m━━━━━━━━━━━━━━━━━━━━\u001b[0m\u001b[37m\u001b[0m \u001b[1m0s\u001b[0m 52ms/step - accuracy: 0.8103 - loss: 0.3897 - val_accuracy: 0.9091 - val_loss: 0.2671\n",
      "Epoch 12/18\n",
      "\u001b[1m2/2\u001b[0m \u001b[32m━━━━━━━━━━━━━━━━━━━━\u001b[0m\u001b[37m\u001b[0m \u001b[1m0s\u001b[0m 55ms/step - accuracy: 0.8793 - loss: 0.3202 - val_accuracy: 0.9091 - val_loss: 0.2668\n",
      "Epoch 13/18\n",
      "\u001b[1m2/2\u001b[0m \u001b[32m━━━━━━━━━━━━━━━━━━━━\u001b[0m\u001b[37m\u001b[0m \u001b[1m0s\u001b[0m 56ms/step - accuracy: 0.8276 - loss: 0.3439 - val_accuracy: 0.9091 - val_loss: 0.2422\n",
      "Epoch 14/18\n",
      "\u001b[1m2/2\u001b[0m \u001b[32m━━━━━━━━━━━━━━━━━━━━\u001b[0m\u001b[37m\u001b[0m \u001b[1m0s\u001b[0m 55ms/step - accuracy: 0.7931 - loss: 0.3473 - val_accuracy: 0.9091 - val_loss: 0.2291\n",
      "Epoch 15/18\n",
      "\u001b[1m2/2\u001b[0m \u001b[32m━━━━━━━━━━━━━━━━━━━━\u001b[0m\u001b[37m\u001b[0m \u001b[1m0s\u001b[0m 52ms/step - accuracy: 0.8448 - loss: 0.3207 - val_accuracy: 0.9091 - val_loss: 0.2295\n",
      "Epoch 16/18\n",
      "\u001b[1m2/2\u001b[0m \u001b[32m━━━━━━━━━━━━━━━━━━━━\u001b[0m\u001b[37m\u001b[0m \u001b[1m0s\u001b[0m 55ms/step - accuracy: 0.8621 - loss: 0.2976 - val_accuracy: 0.8182 - val_loss: 0.2436\n",
      "Epoch 17/18\n",
      "\u001b[1m2/2\u001b[0m \u001b[32m━━━━━━━━━━━━━━━━━━━━\u001b[0m\u001b[37m\u001b[0m \u001b[1m0s\u001b[0m 54ms/step - accuracy: 0.9138 - loss: 0.3222 - val_accuracy: 0.8182 - val_loss: 0.2307\n",
      "Epoch 18/18\n",
      "\u001b[1m2/2\u001b[0m \u001b[32m━━━━━━━━━━━━━━━━━━━━\u001b[0m\u001b[37m\u001b[0m \u001b[1m0s\u001b[0m 53ms/step - accuracy: 0.8448 - loss: 0.3215 - val_accuracy: 0.9091 - val_loss: 0.2026\n"
     ]
    },
    {
     "data": {
      "text/plain": [
       "<keras.src.callbacks.history.History at 0x24f2bf74f50>"
      ]
     },
     "execution_count": 17,
     "metadata": {},
     "output_type": "execute_result"
    }
   ],
   "source": [
    "model.fit(X_train, y_train, epochs = 18, batch_size=32, validation_data=(X_test, y_test))"
   ]
  },
  {
   "cell_type": "code",
   "execution_count": 18,
   "id": "de362cff",
   "metadata": {},
   "outputs": [
    {
     "name": "stdout",
     "output_type": "stream",
     "text": [
      "\u001b[1m1/1\u001b[0m \u001b[32m━━━━━━━━━━━━━━━━━━━━\u001b[0m\u001b[37m\u001b[0m \u001b[1m0s\u001b[0m 36ms/step - accuracy: 0.9091 - loss: 0.2026\n",
      "Test Loss: 0.20259588956832886, Test Accuracy: 0.9090909361839294\n"
     ]
    }
   ],
   "source": [
    "loss, acc = model.evaluate(X_test, y_test)\n",
    "print(f\"Test Loss: {loss}, Test Accuracy: {acc}\")"
   ]
  },
  {
   "cell_type": "markdown",
   "id": "4e39682e",
   "metadata": {},
   "source": [
    "### Testing the model with input"
   ]
  },
  {
   "cell_type": "code",
   "execution_count": 19,
   "id": "d8e178d2",
   "metadata": {},
   "outputs": [
    {
     "name": "stdout",
     "output_type": "stream",
     "text": [
      "\u001b[1m1/1\u001b[0m \u001b[32m━━━━━━━━━━━━━━━━━━━━\u001b[0m\u001b[37m\u001b[0m \u001b[1m0s\u001b[0m 43ms/step\n"
     ]
    },
    {
     "data": {
      "image/png": "[encoded data removed]",
      "text/plain": [
       "<Figure size 640x480 with 1 Axes>"
      ]
     },
     "metadata": {},
     "output_type": "display_data"
    }
   ],
   "source": [
    "def predict_image(image_path, model, image_size=(64, 64)):\n",
    "    # Load and preprocess the image\n",
    "    img = Image.open(image_path).convert('RGB').resize(image_size)\n",
    "    img_array = np.array(img) / 255.0\n",
    "    img_flat = img_array.reshape(1, -1)  # Shape: (1, 64*64*3)\n",
    "\n",
    "    # Predict\n",
    "    prob = model.predict(img_flat)[0][0]\n",
    "    pred = int(prob > 0.5)\n",
    "\n",
    "    # Show image with prediction\n",
    "    plt.imshow(img)\n",
    "    plt.title(f\"Prediction: {'Cat' if pred else 'Non-cat'} ({prob:.2f})\")\n",
    "    plt.axis('off')\n",
    "    plt.show()\n",
    "\n",
    "# Example usage\n",
    "predict_image(\"images/another_pic.jpg\", model)"
   ]
  },
  {
   "cell_type": "code",
   "execution_count": 21,
   "id": "44652563",
   "metadata": {},
   "outputs": [
    {
     "name": "stdout",
     "output_type": "stream",
     "text": [
      "\u001b[1m1/1\u001b[0m \u001b[32m━━━━━━━━━━━━━━━━━━━━\u001b[0m\u001b[37m\u001b[0m \u001b[1m0s\u001b[0m 30ms/step\n"
     ]
    },
    {
     "data": {
      "image/png": "[encoded data removed]",
      "text/plain": [
       "<Figure size 640x480 with 1 Axes>"
      ]
     },
     "metadata": {},
     "output_type": "display_data"
    }
   ],
   "source": [
    "predict_image(\"images/cat_image.png\", model)"
   ]
  }
 ],
 "metadata": {
  "kernelspec": {
   "display_name": "Python 3",
   "language": "python",
   "name": "python3"
  },
  "language_info": {
   "codemirror_mode": {
    "name": "ipython",
    "version": 3
   },
   "file_extension": ".py",
   "mimetype": "text/x-python",
   "name": "python",
   "nbconvert_exporter": "python",
   "pygments_lexer": "ipython3",
   "version": "3.13.2"
  }
 },
 "nbformat": 4,
 "nbformat_minor": 5
}
